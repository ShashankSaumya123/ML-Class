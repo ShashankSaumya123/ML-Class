{
 "cells": [
  {
   "cell_type": "code",
   "execution_count": 1,
   "metadata": {},
   "outputs": [],
   "source": [
    "import numpy as np\n",
    "import random as Random\n",
    "import pandas as pd\n",
    "import copy"
   ]
  },
  {
   "cell_type": "code",
   "execution_count": 2,
   "metadata": {},
   "outputs": [],
   "source": [
    "df = pd.read_excel(r\"E:\\My work\\Sem 7\\ML\\ML-Class\\End Sem\\End sem Data.xlsx\")\n",
    "data = df.to_numpy()\n",
    "np.random.shuffle(data)\n",
    "Y = data[:,-1]\n",
    "X = np.delete(data,-1,1)\n",
    "X = X.astype(np.float64)\n",
    "Y = Y.astype(np.float64)\n",
    "#Separating into train/test (80-20)\n",
    "sep = 0.8*len(X)-1\n",
    "sep = int(sep)\n",
    "trainx, testx = X[:sep,:], X[sep:,:]\n",
    "trainy, testy = Y[:sep], Y[sep:]\n",
    "x = trainx\n",
    "y = trainy"
   ]
  },
  {
   "cell_type": "code",
   "execution_count": 17,
   "metadata": {},
   "outputs": [
    {
     "name": "stdout",
     "output_type": "stream",
     "text": [
      "[1.41765180e-04 1.41765180e-04 1.41765180e-04 1.41765180e-04\n",
      " 1.41765180e-04 1.41765180e-04 1.41765180e-04 1.41765180e-04\n",
      " 1.41765180e-04 1.41765180e-04 1.41765180e-04 1.41765180e-04\n",
      " 1.41765180e-04 1.41765180e-04 1.41765180e-04 1.94917092e-02\n",
      " 1.12960058e-03 1.89729767e-05 6.98170825e-03 1.82325807e-06]\n",
      "[1.10171881e-03 1.10171881e-03 1.10171881e-03 1.10171881e-03\n",
      " 1.10171881e-03 1.10171881e-03 1.10171881e-03 1.10171881e-03\n",
      " 1.10171881e-03 1.10171881e-03 1.10171881e-03 1.10171881e-03\n",
      " 1.10171881e-03 1.10171881e-03 1.10171881e-03 1.90828473e-02\n",
      " 8.83611924e-03 1.47298404e-04 5.40902031e-02 1.42666285e-05]\n"
     ]
    }
   ],
   "source": [
    "# GD from scratch\n",
    "epochs = 800\n",
    "α = 10**(-8)\n",
    "w0 = np.ones((len(x),1))\n",
    "x = np.hstack((w0,x))\n",
    "wc = np.array([0]*len(x[0]))\n",
    "n = len(x)\n",
    "for epoch in range(epochs):\n",
    "    yp = np.dot(x,wc)\n",
    "\n",
    "    #Reshaping y to allow for multiplication\n",
    "    yp = yp.reshape(len(yp),1)\n",
    "    y = y.reshape(len(y),1)\n",
    "\n",
    "    ws1 = x*(y-yp)\n",
    "    ws = ws1.sum(axis=0)\n",
    "    if(epoch == 100): print(wc)\n",
    "    wd = -(2/n)*ws\n",
    "    wc = wc-(α*wd)\n",
    "    #print(\"m {}, b {}, iteration {}\".format(mc,bc,i))\n",
    "print(wc)"
   ]
  },
  {
   "cell_type": "code",
   "execution_count": null,
   "metadata": {},
   "outputs": [],
   "source": []
  }
 ],
 "metadata": {
  "interpreter": {
   "hash": "c87a2612ab2f68c8a6eaedcbb1976cb87dbe57fd6798182a189e946bc46e8937"
  },
  "kernelspec": {
   "display_name": "Python 3.9.9 64-bit ('ML-env': venv)",
   "language": "python",
   "name": "python3"
  },
  "language_info": {
   "codemirror_mode": {
    "name": "ipython",
    "version": 3
   },
   "file_extension": ".py",
   "mimetype": "text/x-python",
   "name": "python",
   "nbconvert_exporter": "python",
   "pygments_lexer": "ipython3",
   "version": "3.9.9"
  },
  "orig_nbformat": 4
 },
 "nbformat": 4,
 "nbformat_minor": 2
}
