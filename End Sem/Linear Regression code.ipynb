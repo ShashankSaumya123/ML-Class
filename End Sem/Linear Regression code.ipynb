{
 "cells": [
  {
   "cell_type": "code",
   "execution_count": 1,
   "metadata": {},
   "outputs": [],
   "source": [
    "import numpy as np\n",
    "import random as Random\n",
    "from matplotlib import pyplot as plt\n",
    "import pandas as pd\n",
    "from sklearn.linear_model import LinearRegression\n",
    "from sklearn.metrics import mean_squared_error, r2_score\n",
    "from sklearn.preprocessing import StandardScaler"
   ]
  },
  {
   "cell_type": "code",
   "execution_count": 10,
   "metadata": {},
   "outputs": [],
   "source": [
    "df = pd.read_excel(r\"E:\\My work\\Sem 7\\ML\\ML-Class\\End Sem\\End sem Data.xlsx\")\n",
    "scaler = StandardScaler()\n",
    "data = scaler.fit_transform(df)"
   ]
  },
  {
   "cell_type": "code",
   "execution_count": 11,
   "metadata": {},
   "outputs": [],
   "source": [
    "np.random.shuffle(data)\n",
    "Y = data[:,-1]\n",
    "X = np.delete(data,-1,1)\n",
    "X = X.astype(np.float64)\n",
    "Y = Y.astype(np.float64)\n",
    "#Separating into train/test (80-20)\n",
    "sep = 0.8*len(X)-1\n",
    "sep = int(sep)\n",
    "trainx, testx = X[:sep,:], X[sep:,:]\n",
    "trainy, testy = Y[:sep], Y[sep:]"
   ]
  },
  {
   "cell_type": "code",
   "execution_count": 16,
   "metadata": {},
   "outputs": [],
   "source": [
    "# GD from scratch\n",
    "def GD_Batch(x,y, epochs = 10**4, α = 0.001):\n",
    "    w0 = np.ones((len(x),1))\n",
    "    x = np.hstack((w0,x))\n",
    "    wc = np.array([0]*len(x[0]))\n",
    "    n = len(x)\n",
    "    for epoch in range(epochs):\n",
    "        yp = np.dot(x,wc)\n",
    "\n",
    "        #Reshaping y to allow for multiplication\n",
    "        yp = yp.reshape(len(yp),1)\n",
    "        y = y.reshape(len(y),1)\n",
    "        ws = (x*(y-yp)).sum(axis=0)\n",
    "        wd = -(2/n)*ws\n",
    "        wc = wc-(α*wd)\n",
    "        #print(\"m {}, b {}, iteration {}\".format(mc,bc,i))\n",
    "    return(wc)\n",
    "\n",
    "#SGD only works for 5 feature vector data\n",
    "def SGD(x,y, iter = 10**4, α = 0.001):\n",
    "    y = y.tolist()\n",
    "    wc1 = wc2 = wc3 = wc4 = wc5 = bc = 0\n",
    "    n = len(x)\n",
    "    for i in range(iter):\n",
    "        ya = np.random.choice(y)\n",
    "        xa1 = x[:,0]\n",
    "        xa1 = xa1[y.index(ya)]\n",
    "        xa2 = x[:,1]\n",
    "        xa2 = xa2[y.index(ya)]\n",
    "        xa3 = x[:,2]\n",
    "        xa3 = xa3[y.index(ya)]\n",
    "        xa4 = x[:,3]\n",
    "        xa4 = xa4[y.index(ya)]\n",
    "        xa5 = x[:,4]\n",
    "        xa5 = xa5[y.index(ya)]\n",
    "\n",
    "        yp = (wc1*xa1)+(wc2*xa2)+(wc3*xa3)+(wc4*xa4)+(wc5*xa5)+bc\n",
    "\n",
    "        wd1 = -2*xa1*(ya-yp)\n",
    "        wd2 = -2*xa2*(ya-yp)\n",
    "        wd3 = -2*xa3*(ya-yp)\n",
    "        wd4 = -2*xa4*(ya-yp)\n",
    "        wd5 = -2*xa5*(ya-yp)\n",
    "        bd = -2*(ya-yp)\n",
    "        wc1 = wc1-(α*wd1)\n",
    "        wc2 = wc2-(α*wd2)\n",
    "        wc3 = wc3-(α*wd3)\n",
    "        wc4 = wc4-(α*wd4)\n",
    "        wc5 = wc5-(α*wd5)\n",
    "        bc = bc-(α*bd)\n",
    "    wc = [bc,wc1,wc2,wc3,wc4,wc5]\n",
    "    return(wc)\n",
    "    \n",
    "    \n",
    "    \n",
    "# Mini Batch GD (mini batch size 20) only works for 5 feature vector data\n",
    "def minBatchGD(x,y,iter = 10**4,α = 0.001,bs = 3):\n",
    "    y = y.tolist()\n",
    "    wc1 = wc2 = wc3 = wc4 = wc5 = bc = 0\n",
    "    n = len(x)\n",
    "    for i in range(iter):\n",
    "        ya = Random.sample(y,k = bs)\n",
    "        xa1 = np.zeros(bs)\n",
    "        xa2 = np.zeros(bs)\n",
    "        xa3 = np.zeros(bs)\n",
    "        xa4 = np.zeros(bs)\n",
    "        xa5 = np.zeros(bs)\n",
    "\n",
    "        xas1 = x[:,0]\n",
    "        xas2 = x[:,1]\n",
    "        xas3 = x[:,2]\n",
    "        xas4 = x[:,3]\n",
    "        xas5 = x[:,4]\n",
    "        for i in range(bs):\n",
    "            xa1[i] = xas1[y.index(ya[i])]\n",
    "            xa2[i] = xas2[y.index(ya[i])]\n",
    "            xa3[i] = xas3[y.index(ya[i])]\n",
    "            xa4[i] = xas4[y.index(ya[i])]\n",
    "            xa5[i] = xas5[y.index(ya[i])]\n",
    "            \n",
    "        yp = (wc1*xa1)+(wc2*xa2)+(wc3*xa3)+(wc4*xa4)+(wc5*xa5)+bc\n",
    "\n",
    "        wd1 = -(2/bs)*sum(xa1*(ya-yp))\n",
    "        wd2 = -(2/bs)*sum(xa2*(ya-yp))\n",
    "        wd3 = -(2/bs)*sum(xa3*(ya-yp))\n",
    "        wd4 = -(2/bs)*sum(xa4*(ya-yp))\n",
    "        wd5 = -(2/bs)*sum(xa5*(ya-yp))\n",
    "        bd = -(2/bs)*sum(ya-yp)\n",
    "\n",
    "        wc1 = wc1-(α*wd1)\n",
    "        wc2 = wc2-(α*wd2)\n",
    "        wc3 = wc3-(α*wd3)\n",
    "        wc4 = wc4-(α*wd4)\n",
    "        wc5 = wc5-(α*wd5)\n",
    "        bc = bc-(α*bd)\n",
    "    \n",
    "    wc = [bc,wc1,wc2,wc3,wc4,wc5]\n",
    "    return(wc)\n",
    "\n",
    "# Predicts the values based on weights\n",
    "def predict(x,w):\n",
    "    x0 = np.ones((len(x),1))\n",
    "    x = np.hstack((x0,x))\n",
    "    pred = np.dot(x,w)\n",
    "    return(pred)\n"
   ]
  },
  {
   "cell_type": "code",
   "execution_count": 17,
   "metadata": {},
   "outputs": [],
   "source": [
    "# Applying linear regression\n",
    "model = LinearRegression()\n",
    "res = model.fit(trainx, trainy)\n",
    "\n",
    "\n",
    "predy = res.predict(testx)\n",
    "w1 = GD_Batch(trainx,trainy)\n",
    "w2 = SGD(trainx,trainy)\n",
    "w3 = minBatchGD(trainx,trainy)\n",
    "\n",
    "predy1 = predict(testx,w1)\n",
    "predy2 = predict(testx,w2)\n",
    "predy3 = predict(testx,w3)"
   ]
  },
  {
   "cell_type": "code",
   "execution_count": 19,
   "metadata": {},
   "outputs": [
    {
     "name": "stdout",
     "output_type": "stream",
     "text": [
      "Coefficients: \n",
      " -0.019843531228976443 [-0.57582308 -0.36905998 -0.47529145  0.21849146 -0.27046711]\n",
      "[-0.01982657 -0.57495193 -0.36240374 -0.47248849  0.21785954 -0.27551604]\n",
      "[-0.022577956266997802, -0.5353730034239415, -0.3861464840635574, -0.4779672943399556, 0.17506548028635613, -0.2635284544660683]\n",
      "[-0.03436686107969655, -0.5748946206054236, -0.35865886593139845, -0.457450299998578, 0.19777023079523484, -0.27176434993112286]\n",
      "Mean squared error: 0.45\n",
      "Coefficient of determination: 0.53\n",
      "Coefficient of determination: 0.53\n",
      "Coefficient of determination: 0.52\n",
      "Coefficient of determination: 0.53\n"
     ]
    }
   ],
   "source": [
    "# The coefficients\n",
    "print(\"Coefficients: \\n\", model.intercept_, model.coef_)\n",
    "print(w1)\n",
    "print(w2)\n",
    "print(w3)\n",
    "# The mean squared error\n",
    "print(\"Mean squared error: %.2f\" % mean_squared_error(testy, predy))\n",
    "# The coefficient of determination: 1 is perfect prediction\n",
    "print(\"Coefficient of determination: %.2f\" % r2_score(testy, predy))\n",
    "print(\"Coefficient of determination: %.2f\" % r2_score(testy, predy1))\n",
    "print(\"Coefficient of determination: %.2f\" % r2_score(testy, predy2))\n",
    "print(\"Coefficient of determination: %.2f\" % r2_score(testy, predy3))"
   ]
  },
  {
   "cell_type": "code",
   "execution_count": 20,
   "metadata": {},
   "outputs": [
    {
     "data": {
      "image/png": "[encoded data removed]",
      "text/plain": [
       "<Figure size 432x288 with 1 Axes>"
      ]
     },
     "metadata": {
      "needs_background": "light"
     },
     "output_type": "display_data"
    }
   ],
   "source": [
    "acc = predy-testy\n",
    "l = len(predy)\n",
    "plt.plot(np.arange(l), acc)\n",
    "plt.show()"
   ]
  },
  {
   "cell_type": "code",
   "execution_count": null,
   "metadata": {},
   "outputs": [],
   "source": []
  }
 ],
 "metadata": {
  "interpreter": {
   "hash": "c87a2612ab2f68c8a6eaedcbb1976cb87dbe57fd6798182a189e946bc46e8937"
  },
  "kernelspec": {
   "display_name": "Python 3.9.9 64-bit ('ML-env': venv)",
   "language": "python",
   "name": "python3"
  },
  "language_info": {
   "codemirror_mode": {
    "name": "ipython",
    "version": 3
   },
   "file_extension": ".py",
   "mimetype": "text/x-python",
   "name": "python",
   "nbconvert_exporter": "python",
   "pygments_lexer": "ipython3",
   "version": "3.9.9"
  },
  "orig_nbformat": 4
 },
 "nbformat": 4,
 "nbformat_minor": 2
}
