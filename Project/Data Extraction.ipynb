{
 "cells": [
  {
   "cell_type": "code",
   "execution_count": 1,
   "id": "28c639f6-5ef3-40ba-8407-ecf427f5fde8",
   "metadata": {},
   "outputs": [],
   "source": [
    "import pandas as pd\n",
    "import numpy as np\n",
    "import matplotlib.pyplot as plt\n",
    "from skimage.io import imread, imshow\n",
    "from skimage.transform import rescale\n",
    "from os import listdir"
   ]
  },
  {
   "cell_type": "code",
   "execution_count": 2,
   "id": "01903dbe-bb9d-4de3-a178-fbb7eb679fdd",
   "metadata": {},
   "outputs": [],
   "source": [
    "# load all images in a directory\n",
    "X = []\n",
    "Y = []\n",
    "for filename in listdir('C:/Users/DELL/Desktop/NISER/ML-Class/Project/WBC_data_kaggle/main_dataset/test/EOSINOPHIL'):\n",
    "    # load image\n",
    "    img_data = imread('C:/Users/DELL/Desktop/NISER/ML-Class/Project/WBC_data_kaggle/main_dataset/test/EOSINOPHIL/' + filename, as_gray=True)\n",
    "    #Rescaling the image\n",
    "    image_r = rescale(img_data, 0.4, anti_aliasing=False)\n",
    "    X.append(image_r)\n",
    "    Y.append(0)\n",
    "\n",
    "for filename in listdir('C:/Users/DELL/Desktop/NISER/ML-Class/Project/WBC_data_kaggle/main_dataset/test/LYMPHOCYTE'):\n",
    "    # load image\n",
    "    img_data = imread('C:/Users/DELL/Desktop/NISER/ML-Class/Project/WBC_data_kaggle/main_dataset/test/LYMPHOCYTE/' + filename, as_gray=True)\n",
    "    #Rescaling the image\n",
    "    image_r = rescale(img_data, 0.4, anti_aliasing=False)\n",
    "    X.append(image_r)\n",
    "    Y.append(1)\n",
    "\n",
    "for filename in listdir('C:/Users/DELL/Desktop/NISER/ML-Class/Project/WBC_data_kaggle/main_dataset/test/MONOCYTE'):\n",
    "    # load image\n",
    "    img_data = imread('C:/Users/DELL/Desktop/NISER/ML-Class/Project/WBC_data_kaggle/main_dataset/test/MONOCYTE/' + filename, as_gray=True)\n",
    "    #Rescaling the image\n",
    "    image_r = rescale(img_data, 0.4, anti_aliasing=False)\n",
    "    X.append(image_r)\n",
    "    Y.append(2)\n",
    "\n",
    "for filename in listdir('C:/Users/DELL/Desktop/NISER/ML-Class/Project/WBC_data_kaggle/main_dataset/test/NEUTROPHIL'):\n",
    "    # load image\n",
    "    img_data = imread('C:/Users/DELL/Desktop/NISER/ML-Class/Project/WBC_data_kaggle/main_dataset/test/NEUTROPHIL/' + filename, as_gray=True)\n",
    "    #Rescaling the image\n",
    "    image_r = rescale(img_data, 0.4, anti_aliasing=False)\n",
    "    X.append(image_r)\n",
    "    Y.append(3)"
   ]
  },
  {
   "cell_type": "code",
   "execution_count": 3,
   "id": "b947b416-e7a2-4d01-81de-700bcb266ab7",
   "metadata": {},
   "outputs": [
    {
     "name": "stdout",
     "output_type": "stream",
     "text": [
      "600\n"
     ]
    }
   ],
   "source": [
    "print(len(X))\n",
    "\n",
    "#plt.imshow(X[2],cmap = 'gray')\n",
    "#plt.title('Aliasing')\n",
    "#plt.savefig('Aliased')\n",
    "#plt.show()\n",
    "#plt.clf()\n",
    "# print(image1_r.shape)\n",
    "# plt.imshow(image1,cmap = 'gray')\n",
    "# plt.title('Original')\n",
    "# #plt.savefig('Original')\n",
    "# plt.show()\n",
    "# plt.clf()"
   ]
  }
 ],
 "metadata": {
  "kernelspec": {
   "display_name": "Python 3",
   "language": "python",
   "name": "python3"
  },
  "language_info": {
   "codemirror_mode": {
    "name": "ipython",
    "version": 3
   },
   "file_extension": ".py",
   "mimetype": "text/x-python",
   "name": "python",
   "nbconvert_exporter": "python",
   "pygments_lexer": "ipython3",
   "version": "3.9.0"
  }
 },
 "nbformat": 4,
 "nbformat_minor": 5
}
