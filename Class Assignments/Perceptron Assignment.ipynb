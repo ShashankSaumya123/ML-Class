{
 "cells": [
  {
   "cell_type": "code",
   "execution_count": 1,
   "id": "f80d5968-dc01-4351-ab18-08c7e632d8db",
   "metadata": {},
   "outputs": [],
   "source": [
    "import numpy as np\n",
    "import random as Random\n",
    "from matplotlib import pyplot as plt\n",
    "from numpy import random as r\n",
    "import pandas as pd"
   ]
  },
  {
   "cell_type": "code",
   "execution_count": 2,
   "id": "21c81ab8-b563-48fd-a131-db61f6a758b6",
   "metadata": {},
   "outputs": [],
   "source": [
    "# Getting the data ready\n",
    "df = pd.read_csv(r\"C:\\Users\\DELL\\Desktop\\NISER\\ML\\data\\Iris.csv\")\n",
    "\n",
    "df.drop(columns=df.columns[0], axis=1, inplace=True)\n",
    "data = df.to_numpy()\n",
    "np.random.shuffle(data)\n",
    "Y = data[:,-1]\n",
    "X = np.delete(data,-1,1)\n",
    "X = X.astype(np.float64)\n",
    "Y = Y.astype(np.float64)\n",
    "# Separating into test/train (80-20)\n",
    "sep = 0.8*len(X)-1\n",
    "sep = int(sep)\n",
    "trainx, testx = X[:sep,:], X[sep:,:]\n",
    "trainy, testy = Y[:sep], Y[sep:]"
   ]
  },
  {
   "cell_type": "code",
   "execution_count": 3,
   "id": "da6d0394-ae3a-4e34-b96a-c5521deaedc3",
   "metadata": {},
   "outputs": [],
   "source": [
    "# define functions\n",
    "def perceptron(X,Y,epochs = 80,mode = 'vanilla'):\n",
    "    col = len(X[0])\n",
    "    w = np.zeros(col)\n",
    "    b = 0\n",
    "    N = len(X)\n",
    "    c = []\n",
    "    wl = []\n",
    "    count = 0\n",
    "    for epoch in range(epochs):\n",
    "        for i in range(N):\n",
    "            a = sum(w[j]*X[i][j] for j in range(col))+b\n",
    "            if(Y[i]*a <= 0):\n",
    "                w1 = np.append(w,b)\n",
    "                wl.append(w1)\n",
    "                c.append(count)\n",
    "                count = -1\n",
    "                for j in range(col):\n",
    "                    w[j] += (Y[i]*X[i][j])\n",
    "                    b += Y[i]\n",
    "            count += 1\n",
    "            if(epoch == epochs-1 and i == N-1): \n",
    "                w1 = np.append(w,b)\n",
    "                wl.append(w1)\n",
    "                c.append(count)\n",
    "    if(mode == 'vanilla'):\n",
    "        return(w,b)\n",
    "    if(mode == 'averaged'):\n",
    "        return(wl,c)\n",
    "\n",
    "def acc(x,y,w = None,b = None, wl = None, c = None, mode = 'vanilla'):\n",
    "    count = 0\n",
    "    col = len(x[0])\n",
    "    if(c != None):\n",
    "        ctot = sum(c)\n",
    "        c = np.divide(c,ctot)\n",
    "    for i in range(len(x)):\n",
    "        if(mode == 'vanilla'):\n",
    "            pred = sum(w[j]*x[i][j] for j in range(col))+b\n",
    "            \n",
    "        if(mode == 'averaged'):\n",
    "            pred = 0\n",
    "            for k in range(len(c)):\n",
    "                for j in range(col):\n",
    "                    pred += c[k]*( (wl[k][j]*x[i][j]) + wl[k][-1])\n",
    "                    \n",
    "        act = y[i]\n",
    "        if(pred*act>=0): count+=1\n",
    "    return(count/len(x))\n",
    "\n",
    "def plotarray(trainx,trainy,testx,testy):\n",
    "    epochs = np.arange(1,81)\n",
    "    van_acc = []\n",
    "    ave_acc = []\n",
    "    for epoch in epochs:\n",
    "        w1,b1 = perceptron(trainx,trainy,epochs = epoch)       \n",
    "        van_acc.append(acc(testx,testy,w = w1,b = b1))\n",
    "        \n",
    "        w2,c2 = perceptron(trainx,trainy, mode = 'averaged')\n",
    "        ave_acc.append(acc(testx,testy,wl = w2,c = c2,mode = 'averaged'))\n",
    "    \n",
    "    return(epochs,van_acc,ave_acc)"
   ]
  },
  {
   "cell_type": "code",
   "execution_count": 4,
   "id": "7b11ebe0-30b2-4b1e-979c-396587eda670",
   "metadata": {},
   "outputs": [
    {
     "name": "stdout",
     "output_type": "stream",
     "text": [
      "[ 0.4  4.8 -7.9 -3. ] 4.0\n",
      "1.0\n"
     ]
    }
   ],
   "source": [
    "# Training the vanilla model\n",
    "w1,b1 = perceptron(trainx,trainy,epochs = 1)\n",
    "print(w1,b1)\n",
    "# Testing the accuracy\n",
    "print(acc(testx,testy,w = w1,b = b1))"
   ]
  },
  {
   "cell_type": "code",
   "execution_count": 5,
   "id": "8ab75152-092e-44d5-b5c0-b8cc7bd99f78",
   "metadata": {},
   "outputs": [
    {
     "name": "stdout",
     "output_type": "stream",
     "text": [
      "[ 0.4  4.8 -7.9 -3.   4. ] [0, 1, 3, 0, 8, 0, 3, 97]\n",
      "1.0\n"
     ]
    }
   ],
   "source": [
    "# Training the averaged model\n",
    "w2,c2 = perceptron(trainx,trainy, mode = 'averaged', epochs = 1)\n",
    "print(w2[-1],c2)\n",
    "# Testing the accuracy\n",
    "print(acc(testx,testy,wl = w2,c = c2,mode = 'averaged'))"
   ]
  },
  {
   "cell_type": "code",
   "execution_count": 8,
   "id": "44b87115-7c8d-4073-91b1-03cd8c702c83",
   "metadata": {},
   "outputs": [],
   "source": [
    "# Creating arrays to make plots\n",
    "x, van, ave = plotarray(trainx,trainy,testx,testy)"
   ]
  },
  {
   "cell_type": "code",
   "execution_count": 14,
   "id": "1be268c2-36a2-4da8-81b9-c312724d30bf",
   "metadata": {},
   "outputs": [
    {
     "data": {
      "image/png": "[encoded data removed]",
      "text/plain": [
       "<Figure size 432x288 with 1 Axes>"
      ]
     },
     "metadata": {
      "needs_background": "light"
     },
     "output_type": "display_data"
    }
   ],
   "source": [
    "# Plotting\n",
    "plt.plot(x,van, label = 'vanilla')\n",
    "plt.plot(x,ave, label = 'averaged')\n",
    "plt.legend()\n",
    "plt.xlabel('Epochs')\n",
    "plt.ylabel('Accuracy')\n",
    "plt.show()\n",
    "\n",
    "# Both are bang on 1 in the very 1st epoch"
   ]
  }
 ],
 "metadata": {
  "kernelspec": {
   "display_name": "Python 3",
   "language": "python",
   "name": "python3"
  },
  "language_info": {
   "codemirror_mode": {
    "name": "ipython",
    "version": 3
   },
   "file_extension": ".py",
   "mimetype": "text/x-python",
   "name": "python",
   "nbconvert_exporter": "python",
   "pygments_lexer": "ipython3",
   "version": "3.9.0"
  }
 },
 "nbformat": 4,
 "nbformat_minor": 5
}
