{
 "cells": [
  {
   "cell_type": "code",
   "execution_count": 1,
   "id": "blind-vancouver",
   "metadata": {},
   "outputs": [],
   "source": [
    "import numpy as np\n",
    "import random as Random\n",
    "from matplotlib import pyplot as plt\n",
    "from sklearn.linear_model import LinearRegression"
   ]
  },
  {
   "cell_type": "code",
   "execution_count": 2,
   "id": "specific-complaint",
   "metadata": {},
   "outputs": [],
   "source": [
    "x=np.random.rand(50) # Random x values\n",
    "x1 = []\n",
    "m = 5\n",
    "y = []\n",
    "for i in range(len(x)):\n",
    "    # Creating the random y values\n",
    "    c = np.random.rand()\n",
    "    y.append((m*x[i])+c)\n",
    "    \n",
    "    # Reshaping x to make it a 2D array of x values. X can have multiple variables. Each column corresponds to one. We only have 1 x variable.\n",
    "    x1.append([x[i]])\n",
    "\n"
   ]
  },
  {
   "cell_type": "code",
   "execution_count": 3,
   "id": "separate-voltage",
   "metadata": {},
   "outputs": [
    {
     "data": {
      "image/png": "[encoded data removed]",
      "text/plain": [
       "<Figure size 432x288 with 1 Axes>"
      ]
     },
     "metadata": {
      "needs_background": "light"
     },
     "output_type": "display_data"
    }
   ],
   "source": [
    "# Applying linear regression\n",
    "res = LinearRegression().fit(x1, y)\n",
    "\n",
    "# Predicting on the same data cuz we don't have new data ;)\n",
    "y1 = res.predict(x1)\n",
    "\n",
    "# Let the plots begin\n",
    "plt.scatter(x,y)\n",
    "plt.plot(x,y1, color = 'green')\n",
    "plt.xlabel('x')\n",
    "plt.ylabel('y')\n",
    "plt.show()"
   ]
  },
  {
   "cell_type": "code",
   "execution_count": 7,
   "id": "wound-aviation",
   "metadata": {},
   "outputs": [],
   "source": [
    "# GD from scratch\n",
    "def GD_Batch(x,y):\n",
    "    wc = bc = 0\n",
    "    iter = 10000\n",
    "    n = len(x)\n",
    "    α = 0.01\n",
    "    for i in range(iter):\n",
    "        yp = (wc*x)+bc\n",
    "        wd = -(2/n)*sum(x*(y-yp))\n",
    "        bd = -(2/n)*sum(y-yp)\n",
    "        wc = wc-(α*wd)\n",
    "        bc = bc-(α*bd)\n",
    "        #print(\"m {}, b {}, iteration {}\".format(mc,bc,i))\n",
    "    return(wc,bc)\n",
    "\n",
    "def SGD(x,y):\n",
    "    wc = bc = 0\n",
    "    iter = 10000\n",
    "    n = len(x)\n",
    "    α = 0.01\n",
    "    for i in range(iter):\n",
    "        ya = np.random.choice(y)\n",
    "        xa = x[y.index(ya)]\n",
    "        yp = (wc*xa)+bc\n",
    "        wd = -2*xa*(ya-yp)\n",
    "        bd = -2*(ya-yp)\n",
    "        wc = wc-(α*wd)\n",
    "        bc = bc-(α*bd)\n",
    "        #print(\"m {}, b {}, iteration {}\".format(mc,bc,i))\n",
    "    return(wc,bc)\n",
    "    \n",
    "    \n",
    "# Mini Batch GD (mini batch size 20)\n",
    "def minBatchGD(x,y):\n",
    "    wc = bc = 2\n",
    "    iter = 10000\n",
    "    n = len(x)\n",
    "    α = 0.01\n",
    "    bs = 3\n",
    "    for i in range(iter):\n",
    "        ya = Random.sample(y,k = bs)\n",
    "        xa = np.zeros(bs)\n",
    "        for i in range(bs):\n",
    "            xa[i] = x[y.index(ya[i])]\n",
    "        yp = (wc*xa)+bc\n",
    "        wd = -(2/bs)*sum(xa*(ya-yp))\n",
    "        bd = -(2/bs)*sum(ya-yp)\n",
    "        wc = wc-(α*wd)\n",
    "        bc = bc-(α*bd)\n",
    "        #print(\"m {}, b {}, iteration {}\".format(mc,bc,i))\n",
    "    return(wc,bc)\n",
    "\n",
    "    \n",
    "\n",
    "w1,b1 = GD_Batch(x,y)\n",
    "w2,b2 = SGD(x,y)\n",
    "w3,b3 = minBatchGD(x,y)"
   ]
  },
  {
   "cell_type": "code",
   "execution_count": 20,
   "id": "first-occurrence",
   "metadata": {},
   "outputs": [
    {
     "data": {
      "image/png": "[encoded data removed]",
      "text/plain": [
       "<Figure size 432x288 with 1 Axes>"
      ]
     },
     "metadata": {
      "needs_background": "light"
     },
     "output_type": "display_data"
    }
   ],
   "source": [
    "plt.scatter(x,y)\n",
    "plt.plot(x,y1,color = 'green')\n",
    "plt.plot(x,w1*x+b1, '-.' ,color = 'yellow')\n",
    "plt.plot(x,w2*x+b2, ':' ,color = 'purple')\n",
    "plt.plot(x,w3*x+b3, '.' ,color = 'red')\n",
    "plt.xlabel('x')\n",
    "plt.ylabel('y')\n",
    "plt.show()"
   ]
  },
  {
   "cell_type": "code",
   "execution_count": 19,
   "id": "civil-significance",
   "metadata": {},
   "outputs": [
    {
     "name": "stdout",
     "output_type": "stream",
     "text": [
      "[4.95020741] 0.5610141823864812\n",
      "4.950206434011355 0.5610146993132102\n",
      "4.9903433651698625 0.5134126161191129\n",
      "4.943508922090738 0.5331449394436079\n"
     ]
    }
   ],
   "source": [
    "# Comparing the results of the different types of GDs\n",
    "print(res.coef_,res.intercept_)\n",
    "print(w1,b1)\n",
    "print(w2,b2)\n",
    "print(w3,b3)"
   ]
  }
 ],
 "metadata": {
  "kernelspec": {
   "display_name": "Python 3",
   "language": "python",
   "name": "python3"
  },
  "language_info": {
   "codemirror_mode": {
    "name": "ipython",
    "version": 3
   },
   "file_extension": ".py",
   "mimetype": "text/x-python",
   "name": "python",
   "nbconvert_exporter": "python",
   "pygments_lexer": "ipython3",
   "version": "3.9.0"
  }
 },
 "nbformat": 4,
 "nbformat_minor": 5
}
