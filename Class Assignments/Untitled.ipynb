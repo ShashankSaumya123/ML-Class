{
 "cells": [
  {
   "cell_type": "code",
   "execution_count": 1,
   "id": "annoying-honduras",
   "metadata": {},
   "outputs": [],
   "source": [
    "import numpy as np\n",
    "import random as Random\n",
    "from matplotlib import pyplot as plt\n",
    "from sklearn.linear_model import LinearRegression"
   ]
  },
  {
   "cell_type": "code",
   "execution_count": 2,
   "id": "black-eleven",
   "metadata": {},
   "outputs": [],
   "source": [
    "x=np.random.rand(50) # Random x values\n",
    "x1 = []\n",
    "m = 5\n",
    "y = []\n",
    "for i in range(len(x)):\n",
    "    # Creating the random y values\n",
    "    c = np.random.rand()\n",
    "    y.append((m*x[i])+c)\n",
    "    \n",
    "    # Reshaping x to make it a 2D array of x values. X can have multiple variables. Each column corresponds to one. We only have 1 x variable.\n",
    "    x1.append([x[i]])\n",
    "\n"
   ]
  },
  {
   "cell_type": "code",
   "execution_count": 3,
   "id": "located-border",
   "metadata": {},
   "outputs": [
    {
     "data": {
      "image/png": "[encoded data removed]",
      "text/plain": [
       "<Figure size 432x288 with 1 Axes>"
      ]
     },
     "metadata": {
      "needs_background": "light"
     },
     "output_type": "display_data"
    }
   ],
   "source": [
    "# Applying linear regression\n",
    "res = LinearRegression().fit(x1, y)\n",
    "\n",
    "# Predicting on the same data cuz we don't have new data ;)\n",
    "y1 = res.predict(x1)\n",
    "\n",
    "# Let the plots begin\n",
    "plt.scatter(x,y)\n",
    "plt.plot(x,y1, color = 'green')\n",
    "plt.xlabel('x')\n",
    "plt.ylabel('y')\n",
    "plt.show()"
   ]
  },
  {
   "cell_type": "code",
   "execution_count": 19,
   "id": "humanitarian-belfast",
   "metadata": {},
   "outputs": [
    {
     "name": "stdout",
     "output_type": "stream",
     "text": [
      "[0.02761048612928252, 0.18489497410598688, 0.3905419174547913] [0.35011707851045926, 1.7713921929983492, 2.661059444872225]\n",
      "<class 'list'>\n",
      "2 [0.02761048612928252, 0.18489497410598688, 0.3905419174547913, 0.02761048612928252, 0.18489497410598688, 0.3905419174547913]\n"
     ]
    },
    {
     "ename": "TypeError",
     "evalue": "unsupported operand type(s) for -: 'list' and 'list'",
     "output_type": "error",
     "traceback": [
      "\u001b[1;31m---------------------------------------------------------------------------\u001b[0m",
      "\u001b[1;31mTypeError\u001b[0m                                 Traceback (most recent call last)",
      "\u001b[1;32m<ipython-input-19-2f62f504994a>\u001b[0m in \u001b[0;36m<module>\u001b[1;34m\u001b[0m\n\u001b[0;32m     59\u001b[0m \u001b[0mw1\u001b[0m\u001b[1;33m,\u001b[0m\u001b[0mb1\u001b[0m \u001b[1;33m=\u001b[0m \u001b[0mGD_Batch\u001b[0m\u001b[1;33m(\u001b[0m\u001b[0mx\u001b[0m\u001b[1;33m,\u001b[0m\u001b[0my\u001b[0m\u001b[1;33m)\u001b[0m\u001b[1;33m\u001b[0m\u001b[1;33m\u001b[0m\u001b[0m\n\u001b[0;32m     60\u001b[0m \u001b[0mw2\u001b[0m\u001b[1;33m,\u001b[0m\u001b[0mb2\u001b[0m \u001b[1;33m=\u001b[0m \u001b[0mSGD\u001b[0m\u001b[1;33m(\u001b[0m\u001b[0mx\u001b[0m\u001b[1;33m,\u001b[0m\u001b[0my\u001b[0m\u001b[1;33m)\u001b[0m\u001b[1;33m\u001b[0m\u001b[1;33m\u001b[0m\u001b[0m\n\u001b[1;32m---> 61\u001b[1;33m \u001b[0mw3\u001b[0m\u001b[1;33m,\u001b[0m\u001b[0mb3\u001b[0m \u001b[1;33m=\u001b[0m \u001b[0mminBatchGD\u001b[0m\u001b[1;33m(\u001b[0m\u001b[0mx\u001b[0m\u001b[1;33m,\u001b[0m\u001b[0my\u001b[0m\u001b[1;33m)\u001b[0m\u001b[1;33m\u001b[0m\u001b[1;33m\u001b[0m\u001b[0m\n\u001b[0m",
      "\u001b[1;32m<ipython-input-19-2f62f504994a>\u001b[0m in \u001b[0;36mminBatchGD\u001b[1;34m(x, y)\u001b[0m\n\u001b[0;32m     48\u001b[0m         \u001b[0mprint\u001b[0m\u001b[1;33m(\u001b[0m\u001b[0mtype\u001b[0m\u001b[1;33m(\u001b[0m\u001b[0mya\u001b[0m\u001b[1;33m)\u001b[0m\u001b[1;33m)\u001b[0m\u001b[1;33m\u001b[0m\u001b[1;33m\u001b[0m\u001b[0m\n\u001b[0;32m     49\u001b[0m         \u001b[0mprint\u001b[0m\u001b[1;33m(\u001b[0m\u001b[0mwc\u001b[0m\u001b[1;33m,\u001b[0m\u001b[0myp\u001b[0m\u001b[1;33m)\u001b[0m\u001b[1;33m\u001b[0m\u001b[1;33m\u001b[0m\u001b[0m\n\u001b[1;32m---> 50\u001b[1;33m         \u001b[0mwd\u001b[0m \u001b[1;33m=\u001b[0m \u001b[1;33m-\u001b[0m\u001b[1;33m(\u001b[0m\u001b[1;36m2\u001b[0m\u001b[1;33m/\u001b[0m\u001b[0mbs\u001b[0m\u001b[1;33m)\u001b[0m\u001b[1;33m*\u001b[0m\u001b[0msum\u001b[0m\u001b[1;33m(\u001b[0m\u001b[0mxa\u001b[0m\u001b[1;33m*\u001b[0m\u001b[1;33m(\u001b[0m\u001b[0mya\u001b[0m\u001b[1;33m-\u001b[0m\u001b[0myp\u001b[0m\u001b[1;33m)\u001b[0m\u001b[1;33m)\u001b[0m\u001b[1;33m\u001b[0m\u001b[1;33m\u001b[0m\u001b[0m\n\u001b[0m\u001b[0;32m     51\u001b[0m         \u001b[0mbd\u001b[0m \u001b[1;33m=\u001b[0m \u001b[1;33m-\u001b[0m\u001b[1;33m(\u001b[0m\u001b[1;36m2\u001b[0m\u001b[1;33m/\u001b[0m\u001b[0mbs\u001b[0m\u001b[1;33m)\u001b[0m\u001b[1;33m*\u001b[0m\u001b[0msum\u001b[0m\u001b[1;33m(\u001b[0m\u001b[0mya\u001b[0m\u001b[1;33m-\u001b[0m\u001b[0myp\u001b[0m\u001b[1;33m)\u001b[0m\u001b[1;33m\u001b[0m\u001b[1;33m\u001b[0m\u001b[0m\n\u001b[0;32m     52\u001b[0m         \u001b[0mwc\u001b[0m \u001b[1;33m=\u001b[0m \u001b[0mwc\u001b[0m\u001b[1;33m-\u001b[0m\u001b[1;33m(\u001b[0m\u001b[0mα\u001b[0m\u001b[1;33m*\u001b[0m\u001b[0mwd\u001b[0m\u001b[1;33m)\u001b[0m\u001b[1;33m\u001b[0m\u001b[1;33m\u001b[0m\u001b[0m\n",
      "\u001b[1;31mTypeError\u001b[0m: unsupported operand type(s) for -: 'list' and 'list'"
     ]
    }
   ],
   "source": [
    "# GD from scratch\n",
    "def GD_Batch(x,y):\n",
    "    wc = bc = 0\n",
    "    iter = 10000\n",
    "    n = len(x)\n",
    "    α = 0.01\n",
    "    for i in range(iter):\n",
    "        yp = (wc*x)+bc\n",
    "        wd = -(2/n)*sum(x*(y-yp))\n",
    "        bd = -(2/n)*sum(y-yp)\n",
    "        wc = wc-(α*wd)\n",
    "        bc = bc-(α*bd)\n",
    "        #print(\"m {}, b {}, iteration {}\".format(mc,bc,i))\n",
    "    return(wc,bc)\n",
    "\n",
    "def SGD(x,y):\n",
    "    wc = bc = 0\n",
    "    iter = 10000\n",
    "    n = len(x)\n",
    "    α = 0.01\n",
    "    for i in range(iter):\n",
    "        ya = np.random.choice(y)\n",
    "        xa = x[y.index(ya)]\n",
    "        yp = (wc*xa)+bc\n",
    "        wd = -2*xa*(ya-yp)\n",
    "        bd = -2*(ya-yp)\n",
    "        wc = wc-(α*wd)\n",
    "        bc = bc-(α*bd)\n",
    "        #print(\"m {}, b {}, iteration {}\".format(mc,bc,i))\n",
    "    return(wc,bc)\n",
    "    \n",
    "    \n",
    "# Mini Batch GD (mini batch size 20)\n",
    "def minBatchGD(x,y):\n",
    "    wc = bc = 2\n",
    "    iter = 10000\n",
    "    n = len(x)\n",
    "    α = 0.01\n",
    "    bs = 3\n",
    "    for i in range(iter):\n",
    "        ya = Random.sample(y,k = bs)\n",
    "        xa = []\n",
    "        for i in range(bs):\n",
    "            xa.append(x[y.index(ya[i])])\n",
    "        \n",
    "        print(xa,ya)\n",
    "        yp = (wc*xa)\n",
    "        print(wc,yp)\n",
    "        wd = -(2/bs)*sum(xa*(ya-yp))\n",
    "        bd = -(2/bs)*sum(ya-yp)\n",
    "        wc = wc-(α*wd)\n",
    "        bc = bc-(α*bd)\n",
    "        #print(\"m {}, b {}, iteration {}\".format(mc,bc,i))\n",
    "    return(wc,bc)\n",
    "\n",
    "    \n",
    "\n",
    "w1,b1 = GD_Batch(x,y)\n",
    "w2,b2 = SGD(x,y)\n",
    "w3,b3 = minBatchGD(x,y)"
   ]
  },
  {
   "cell_type": "code",
   "execution_count": null,
   "id": "hollow-delicious",
   "metadata": {},
   "outputs": [],
   "source": [
    "plt.scatter(x,y)\n",
    "plt.plot(x,y1,color = 'green')\n",
    "plt.plot(x,w1*x+b1, '-.' ,color = 'yellow')\n",
    "# plt.plot(x,w3*x+b3, '.' ,color = 'red')\n",
    "plt.xlabel('x')\n",
    "plt.ylabel('y')\n",
    "plt.show()"
   ]
  },
  {
   "cell_type": "code",
   "execution_count": null,
   "id": "creative-refund",
   "metadata": {},
   "outputs": [],
   "source": [
    "ya = Random.sample(y,k = 3)\n",
    "xa = []\n",
    "for i in range(3):\n",
    "    xa.append(x[y.index(ya[i])])\n",
    "print(xa,ya)"
   ]
  },
  {
   "cell_type": "code",
   "execution_count": null,
   "id": "interested-catering",
   "metadata": {},
   "outputs": [],
   "source": []
  }
 ],
 "metadata": {
  "kernelspec": {
   "display_name": "Python 3",
   "language": "python",
   "name": "python3"
  },
  "language_info": {
   "codemirror_mode": {
    "name": "ipython",
    "version": 3
   },
   "file_extension": ".py",
   "mimetype": "text/x-python",
   "name": "python",
   "nbconvert_exporter": "python",
   "pygments_lexer": "ipython3",
   "version": "3.9.0"
  }
 },
 "nbformat": 4,
 "nbformat_minor": 5
}
